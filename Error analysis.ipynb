{
 "cells": [
  {
   "cell_type": "markdown",
   "id": "c90925eb",
   "metadata": {},
   "source": [
    "# Error analysis in machine learning projects"
   ]
  },
  {
   "cell_type": "markdown",
   "id": "051ab59f",
   "metadata": {},
   "source": [
    "lets import downsccaled version of mnist dataset"
   ]
  },
  {
   "cell_type": "code",
   "execution_count": 1,
   "id": "41df2e7a",
   "metadata": {},
   "outputs": [],
   "source": [
    "from sklearn.datasets import load_digits           # downscaled version of mnist digit\n",
    "digits = load_digits()"
   ]
  },
  {
   "cell_type": "code",
   "execution_count": 2,
   "id": "753753e2",
   "metadata": {},
   "outputs": [
    {
     "data": {
      "text/plain": [
       "<Figure size 800x1600 with 0 Axes>"
      ]
     },
     "metadata": {},
     "output_type": "display_data"
    },
    {
     "data": {
      "image/png": "[encoded data removed]",
      "text/plain": [
       "<Figure size 640x480 with 10 Axes>"
      ]
     },
     "metadata": {},
     "output_type": "display_data"
    }
   ],
   "source": [
    "#@ Viz of datasets\n",
    "from matplotlib import pyplot as plt\n",
    "\n",
    "plt.figure(figsize = (8,16))\n",
    "_, axes = plt.subplots(2,5)\n",
    "images_and_labels = list(zip(digits.images, digits.target))\n",
    "for ax, (image, label) in zip(axes.flatten(), images_and_labels[:10]):\n",
    "    ax.set_axis_off()\n",
    "    ax.imshow(image, cmap=plt.cm.gray_r, interpolation='nearest')\n",
    "    ax.set_title(f\"Digit {label}\")"
   ]
  },
  {
   "cell_type": "code",
   "execution_count": 3,
   "id": "fd80684a",
   "metadata": {},
   "outputs": [],
   "source": [
    "# separating data into training and dev set \n",
    "from sklearn.model_selection import train_test_split\n",
    "\n",
    "#split data into train and test subsets\n",
    "n_samples = len(digits.images)\n",
    "data = digits.images.reshape(n_samples, -1)\n",
    "X_train, x_dev, y_train, y_dev = train_test_split(\n",
    "data, digits.target, test_size=0.5, shuffle=False)"
   ]
  },
  {
   "cell_type": "code",
   "execution_count": 14,
   "id": "e0ff5a71",
   "metadata": {},
   "outputs": [],
   "source": [
    "# traing a softmax classifier \n",
    "from sklearn.linear_model import LogisticRegression\n",
    "classifier = LogisticRegression(max_iter = 10000)\n",
    "\n",
    "# Training the model\n",
    "classifier.fit(X_train,y_train)\n",
    "\n",
    "# predicting on dev set\n",
    "predict = classifier.predict(x_dev)"
   ]
  },
  {
   "cell_type": "code",
   "execution_count": 15,
   "id": "b36fa1d4",
   "metadata": {},
   "outputs": [
    {
     "data": {
      "text/plain": [
       "0.932146829810901"
      ]
     },
     "execution_count": 15,
     "metadata": {},
     "output_type": "execute_result"
    }
   ],
   "source": [
    "(predict == y_dev).mean() # checking accuracy "
   ]
  },
  {
   "cell_type": "markdown",
   "id": "50618a76",
   "metadata": {},
   "source": [
    "# Lets get into error analysis "
   ]
  },
  {
   "cell_type": "code",
   "execution_count": 19,
   "id": "248ad6c3",
   "metadata": {
    "scrolled": true
   },
   "outputs": [
    {
     "data": {
      "text/plain": [
       "(array([ 3., 11.,  2., 14.,  7.,  4.,  1.,  4., 10.,  5.]),\n",
       " array([0. , 0.9, 1.8, 2.7, 3.6, 4.5, 5.4, 6.3, 7.2, 8.1, 9. ]),\n",
       " <BarContainer object of 10 artists>)"
      ]
     },
     "execution_count": 19,
     "metadata": {},
     "output_type": "execute_result"
    },
    {
     "data": {
      "image/png": "[encoded data removed]",
      "text/plain": [
       "<Figure size 640x480 with 1 Axes>"
      ]
     },
     "metadata": {},
     "output_type": "display_data"
    }
   ],
   "source": [
    "# viz of some misclassification and correct classificaiton\n",
    "\n",
    "# dev set digits that are misclassified \n",
    "X_error = x_dev[predict != y_dev]     \n",
    "y_error = y_dev[predict != y_dev]     \n",
    "p_error = predict[predict != y_dev]\n",
    "\n",
    "# dev set digits that are classified correctlty\n",
    "X_corr = x_dev[predict == y_dev]\n",
    "y_corr = y_dev[predict == y_dev]\n",
    "p_corr = predict[predict == y_dev]\n",
    "\n",
    "#show the histogram\n",
    "plt.xticks(range(10))\n",
    "plt.hist(y_error)"
   ]
  },
  {
   "cell_type": "markdown",
   "id": "7d0a039c",
   "metadata": {},
   "source": [
    "The most misclassified digit is 3  and later 1 and 8."
   ]
  },
  {
   "cell_type": "code",
   "execution_count": 26,
   "id": "de6f032d",
   "metadata": {},
   "outputs": [
    {
     "data": {
      "text/plain": [
       "<Figure size 800x1600 with 0 Axes>"
      ]
     },
     "metadata": {},
     "output_type": "display_data"
    },
    {
     "data": {
      "image/png": "[encoded data removed]",
      "text/plain": [
       "<Figure size 640x480 with 16 Axes>"
      ]
     },
     "metadata": {},
     "output_type": "display_data"
    }
   ],
   "source": [
    "# Lets compare between misclassified 3 and correctly classified 3\n",
    "plt.figure(figsize=(8,16))\n",
    "\n",
    "_, axes = plt.subplots(2, 8)\n",
    "# these images are classified incorrectly\n",
    "images_and_labels = list(zip(X_error[y_error==3], p_error[y_error==3]))\n",
    "for ax, (image, label) in zip(axes[0,:], images_and_labels[:8]):\n",
    "    ax.set_axis_off()\n",
    "    ax.imshow(image.reshape((8,8)), cmap=plt.cm.gray_r, interpolation=\"nearest\")\n",
    "    ax.set_title('f(x)=%i' % label)\n",
    "    \n",
    "# these images are classified correctly\n",
    "images_and_labels = list(zip(X_corr[y_corr==3], p_corr[y_corr==3]))\n",
    "for ax, (image, label)  in zip(axes[1, :], images_and_labels[:8]):\n",
    "    ax.set_axis_off()\n",
    "    ax.imshow(image.reshape((8,8)), cmap=plt.cm.gray_r, interpolation=\"nearest\")\n",
    "    ax.set_title(\"f(x)=%i\" % label)"
   ]
  },
  {
   "cell_type": "markdown",
   "id": "13f1891f",
   "metadata": {},
   "source": [
    "Hence we can see why and how 3 is misclassified on work on it to improve our model."
   ]
  },
  {
   "cell_type": "code",
   "execution_count": null,
   "id": "0168ddc8",
   "metadata": {},
   "outputs": [],
   "source": []
  }
 ],
 "metadata": {
  "kernelspec": {
   "display_name": "Python 3 (ipykernel)",
   "language": "python",
   "name": "python3"
  },
  "language_info": {
   "codemirror_mode": {
    "name": "ipython",
    "version": 3
   },
   "file_extension": ".py",
   "mimetype": "text/x-python",
   "name": "python",
   "nbconvert_exporter": "python",
   "pygments_lexer": "ipython3",
   "version": "3.10.9"
  }
 },
 "nbformat": 4,
 "nbformat_minor": 5
}
